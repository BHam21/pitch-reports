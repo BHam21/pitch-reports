{
 "cells": [
  {
   "cell_type": "markdown",
   "metadata": {},
   "source": [
    "## Importing all needed libraries"
   ]
  },
  {
   "cell_type": "code",
   "execution_count": 11,
   "metadata": {},
   "outputs": [],
   "source": [
    "import pandas as pd\n",
    "import numpy as np"
   ]
  },
  {
   "cell_type": "markdown",
   "metadata": {},
   "source": [
    "## Enter the CSV File name in between the apostrophes"
   ]
  },
  {
   "cell_type": "code",
   "execution_count": 12,
   "metadata": {},
   "outputs": [],
   "source": [
    "df=pd.read_csv('11_4_Scrimmage.csv', index_col=False)"
   ]
  },
  {
   "cell_type": "markdown",
   "metadata": {},
   "source": [
    "## Selecting Rows and Columns on the Data Frame"
   ]
  },
  {
   "cell_type": "code",
   "execution_count": 13,
   "metadata": {},
   "outputs": [],
   "source": [
    "df=df[['Pitcher','TaggedPitchType','RelSpeed','SpinRate','SpinAxis','Extension','InducedVertBreak',\n",
    "      'HorzBreak','VertApprAngle','pfxx','pfxz']]\n",
    "\n",
    "#Rounding the decimals in the Data Frame\n",
    "df=df.round(decimals=1)\n",
    "\n",
    "\n",
    "#Generating Final Report of Sorted Pitchers and Pitch types with the averages of each pitch\n",
    "Final_Report=df.groupby(['Pitcher','TaggedPitchType',]).mean()\n",
    "Final_Report=Final_Report.round(decimals=1)"
   ]
  },
  {
   "cell_type": "markdown",
   "metadata": {},
   "source": [
    "## Putting All of the Data Frames into CSV Files within the Pitch_Report Folder"
   ]
  },
  {
   "cell_type": "code",
   "execution_count": 17,
   "metadata": {},
   "outputs": [],
   "source": [
    "Final_Report.to_csv(r'C:\\Users\\YourName\\Documents\\Pitch_Report\\11_4_FinalReport.csv')"
   ]
  }
 ],
 "metadata": {
  "kernelspec": {
   "display_name": "Python 3",
   "language": "python",
   "name": "python3"
  },
  "language_info": {
   "codemirror_mode": {
    "name": "ipython",
    "version": 3
   },
   "file_extension": ".py",
   "mimetype": "text/x-python",
   "name": "python",
   "nbconvert_exporter": "python",
   "pygments_lexer": "ipython3",
   "version": "3.7.3"
  }
 },
 "nbformat": 4,
 "nbformat_minor": 4
}
